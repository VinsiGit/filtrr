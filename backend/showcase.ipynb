{
 "cells": [
  {
   "cell_type": "markdown",
   "id": "8ccab075194136b0",
   "metadata": {
    "collapsed": false
   },
   "source": [
    "# Load example data"
   ]
  },
  {
   "cell_type": "code",
   "execution_count": 8,
   "id": "3bcd1407399d00de",
   "metadata": {
    "ExecuteTime": {
     "end_time": "2024-03-26T16:02:40.779000200Z",
     "start_time": "2024-03-26T16:02:40.779000200Z"
    },
    "collapsed": false
   },
   "outputs": [],
   "source": [
    "import json\n",
    "import warnings\n",
    "warnings.filterwarnings('ignore', category=DeprecationWarning)\n",
    "warnings.filterwarnings('ignore', category=FutureWarning)\n",
    "with open('data.json',encoding='utf-8',mode='r') as file:\n",
    "     mails = json.load(file)"
   ]
  },
  {
   "cell_type": "markdown",
   "id": "cb9b6317af0dfe83",
   "metadata": {
    "collapsed": false
   },
   "source": [
    "# Preprocessor showcase"
   ]
  },
  {
   "cell_type": "code",
   "execution_count": 11,
   "id": "1e262806dcdfcad0",
   "metadata": {
    "ExecuteTime": {
     "end_time": "2024-03-26T16:02:40.804763800Z",
     "start_time": "2024-03-26T16:02:40.794619500Z"
    },
    "collapsed": false
   },
   "outputs": [
    {
     "data": {
      "text/plain": [
       "{'text_body': 'ENKEL RECHTSTREEKS, GEEN TUSSENPARTIJEN AUB\\r\\n\\r\\nVOORRANG VASTE MEDEWERKERS\\r\\n\\r\\n\\r\\n\\r\\nHallo collega’s,\\r\\n\\r\\n\\r\\n\\r\\nVoor Swift zoeken we een Datawarehousing Specialist (4. Expert (10+)) SWI000876 die voldoet aan volgende beschrijving:\\r\\n\\r\\n\\r\\n\\r\\nUiterste reactiedatum: 16/02/2024\\r\\n\\r\\nGewenste startdatum: 01/03/2024\\r\\n\\r\\nEinddatum: 31/08/2024\\r\\n\\r\\n\\r\\n\\r\\nReferentie: SWI000876\\r\\n\\r\\nTitel: Datawarehousing Specialist (4. Expert (10+)) SWI000876\\r\\n\\r\\nLocatie: THE NETHERLANDS - ZOETERWOUDE (ENERGIEWEG 33, 2382 NC ZOETERWOUDE, NEDERLAND)\\r\\n\\r\\nStatus: Gepubliceerd\\r\\n\\r\\nType contract: Time & material\\r\\n\\r\\nCategorie: Niet van toepassing\\r\\n\\r\\nAantal personen: 1\\r\\n\\r\\nAfdeling: Human Resource (HR)\\r\\n\\r\\n\\r\\n\\r\\nOmschrijving\\r\\n\\r\\n\\r\\n\\r\\nThe project for which the candidate will be assigned is called Digital Dashboards, having the goal of building executive dashboarding for Swift. The ideal candidate will have an extensive background and expertise in MS Power BI, with both the ability to design the data model, as well as the reports and dashboards.\\r\\n\\r\\nThe candidate will join the project team and will have a key role to play, not just delivering on the scope of the project, but also training the team on that technology since it is still quite new at Swift.\\r\\n\\r\\n\\r\\nOpdracht informatie\\r\\n\\r\\n\\r\\n\\r\\nProjectnaam: Digital Dashboards\\r\\n\\r\\nWerkregime: Voltijds\\r\\n\\r\\n\\r\\n\\r\\nVaardigheden\\r\\n\\r\\n\\r\\n\\r\\nSPECIFIEKE VAARDIGHEDEN\\r\\n\\r\\n\\r\\n\\r\\nData Modeling: Expert (10+)\\r\\n\\r\\nETL Development: Expert (10+)\\r\\n\\r\\nMS Power Bi: Expert (10+)\\r\\n\\r\\n\\r\\n\\r\\n\\r\\nIndien jullie geschikte kandidaten hebben ontvang ik graag hun beschikbaarheid, CV en kostprijs.\\r\\n\\r\\n\\r\\n\\r\\nAlvast hartelijk bedankt.\\r\\n\\r\\n\\r\\n[signature_1929168496]\\r\\n\\r\\nChannice \\r\\n\\r\\nExecutive Assistant - Business and sales support\\r\\n\\r\\n\\r\\n\\r\\n\\r\\n\\r\\n\\r\\n\\r\\nDe Cronos Groep nv\\r\\n\\r\\nVeldkant 33A, 2550 Kontich\\r\\n\\r\\n\\r\\n',\n",
       " 'keywords': ['ability',\n",
       "  'bi',\n",
       "  'data',\n",
       "  'design',\n",
       "  'development',\n",
       "  'etl',\n",
       "  'hr',\n",
       "  'model',\n",
       "  'modeling',\n",
       "  'ms',\n",
       "  'nc',\n",
       "  'nv',\n",
       "  'power',\n",
       "  'project',\n",
       "  'specialist',\n",
       "  'technology']}"
      ]
     },
     "execution_count": 11,
     "metadata": {},
     "output_type": "execute_result"
    }
   ],
   "source": [
    "from preprocessor import Preprocessor\n",
    "\n",
    "p = Preprocessor()\n",
    "p.preprocess(email=mails[0])"
   ]
  },
  {
   "cell_type": "markdown",
   "id": "3a4ec9cbad5f8e6b",
   "metadata": {
    "collapsed": false
   },
   "source": [
    "# Model operator showcase"
   ]
  },
  {
   "cell_type": "code",
   "execution_count": 3,
   "id": "b101700d94387a93",
   "metadata": {
    "ExecuteTime": {
     "end_time": "2024-03-26T16:02:52.749174300Z",
     "start_time": "2024-03-26T16:02:40.794619500Z"
    },
    "collapsed": false
   },
   "outputs": [
    {
     "name": "stdout",
     "output_type": "stream",
     "text": [
      "Error: The file 'models/tfidf_vectorizer.joblib' does not exist.\n",
      "origineel label: DATA_ENGINEER\n"
     ]
    },
    {
     "data": {
      "text/plain": [
       "{'item_id': 7,\n",
       " 'sender': '25a136e8df165718d2b1e04c533e2f21022db8557de816caeeb4e3bdf3235274',\n",
       " 'sender_email': '55aaeeac5aeef0488e0c61e6e200baec2534f2f0f420c4ae34066440f786d889',\n",
       " 'datetime_received': 1698140515000,\n",
       " 'sensitivity': 'Normal',\n",
       " 'subject': 'MS Azure Data Architect Volvo',\n",
       " 'text_body': \"Hallo,\\r\\n\\r\\nVoor Volvo Group (Gent) zoeken we een MS Azure data architect.\\r\\nGraag cv, ic en beschikbaarheden van eigen medewerkes of direcete freelancers.\\r\\nRegime : FTE met 50% on site.\\r\\nBedankt.\\r\\n\\r\\nWe are looking for an Data architect Azure, with a good overall understanding of available services in the Azure Analytics stack.\\r\\nThis person is required to take the lead as Data Architect for GTO Manufacturing & Powertrain projects.\\r\\nWe need this person to keep everything together but also to have practical experience to dive in and setup different environments & services.\\r\\nLeadership capabilities needed as this person is supposed to take the technical lead role and discussion with Business Stakeholders.\\r\\n\\r\\nWorking alongside with multiple product teams, you provide architecture leadership and support within the end-to-end lifecycle of managing data.\\r\\n• You provide technical leadership, you participate in development efforts, and you represent the full internal and external capabilities of the platform.\\r\\n• You will be an active member of the architects guild to oversee data management process and provide guidance and direction to development teams - including design, documentation, maintenance, enhancements and validation.\\r\\n• You have a proven experience in one of following development track: Analytics & BI development, data analysis, data engineering, platforms administration.\\r\\n• As architect, you have experiences on Azure Cloud platform around data (Databricks, ADLS storage, SQL DB...), and you know technologies like Python or Spark. Experience with Angular, ADF, Power BI is an advantage.\\r\\n• You have experiences in defining and owning end-to-end scalable Data Architecture taking into account enterprise architecture and industry standards.\\r\\n• You have participated in the development of architectures, strategies, and policies around data, including data governance, master data management, metadata management, data quality and data security.\\r\\n• You are used to develop, document and maintain logical and physical data models.\\r\\n• You are used to work closely with multiple internal teams including compliance, privacy, risk, information security, support and operations to ensure all business requirements are considered in the design process\\r\\n\\r\\nCompetences & Skills Mandatory:\\r\\n• Data Architecture has been\\u202fyour\\u202fworld\\u202ffor minimum 4\\u202fyears\\u202f\\r\\n• Writing SQL and doing data modelling are natural to you\\r\\n• Data Architecture design\\r\\n• Azure components like ADFv2, Databricks, Synapse, Delta lake\\r\\n• Azure Advanced Analytics technologies and frameworks\\r\\n• Advanced Analytics related programming language: Python, Pyspark\\r\\n• Microsoft cloud based delivery model\\r\\n• Data Management, Data Governance and Data Quality\\r\\n• API or microservice deployment\\r\\n• Data Integration and Processing real time/streaming data\\r\\n• DevSecOps\\r\\n•appreciation of the purpose and the practices of Agile\\r\\n• You have experience working in a global environment\\r\\n• You have demonstrated a growth and learning mindset.\\r\\n• You have excellent communication skills in French and English (C1 level)\\r\\n\\r\\nPhilip\\r\\nBusiness Development Manager\\r\\n92\\r\\nPhone : \\r\\nAddress : Veldkant 33a – 2550 Kontich – Belgium\\r\\n[logo's iperform_def_RGB],  a [rosspoint_Logo_350x140] Company\\r\\n\\r\\n\",\n",
       " 'label': 'DATA_ENGINEER',\n",
       " 'keywords': ['advanced',\n",
       "  'analytics',\n",
       "  'api',\n",
       "  'architect',\n",
       "  'architecture',\n",
       "  'azure',\n",
       "  'bi',\n",
       "  'cloud',\n",
       "  'data',\n",
       "  'databricks',\n",
       "  'db',\n",
       "  'delta',\n",
       "  'design',\n",
       "  'develop',\n",
       "  'development',\n",
       "  'dive',\n",
       "  'environment',\n",
       "  'experience',\n",
       "  'governance',\n",
       "  'ic',\n",
       "  'integration',\n",
       "  'lake',\n",
       "  'language',\n",
       "  'learning',\n",
       "  'level',\n",
       "  'maintenance',\n",
       "  'management',\n",
       "  'master',\n",
       "  'microsoft',\n",
       "  'model',\n",
       "  'ms',\n",
       "  'need',\n",
       "  'platform',\n",
       "  'power',\n",
       "  'process',\n",
       "  'processing',\n",
       "  'product',\n",
       "  'programming',\n",
       "  'quality',\n",
       "  'scalable',\n",
       "  'security',\n",
       "  'setup',\n",
       "  'sql',\n",
       "  'stack',\n",
       "  'synapse',\n",
       "  'work']}"
      ]
     },
     "execution_count": 3,
     "metadata": {},
     "output_type": "execute_result"
    }
   ],
   "source": [
    "from modeloperator import ModelOperator\n",
    "from modelmanager import ModelManager\n",
    "\n",
    "mm = ModelManager(test_size=0.15, random_state=30, learning_rate=0.9, base_n_estimators= 35, n_estimators= 180)\n",
    "metrics = mm.train_model(data=mails)\n",
    "ml = ModelOperator()\n",
    "\n",
    "print(\"origineel label:\",mails[92]['label'])\n",
    "ml.classify(mails[92])"
   ]
  },
  {
   "cell_type": "code",
   "execution_count": 4,
   "id": "414fe34c41d8c80b",
   "metadata": {
    "ExecuteTime": {
     "end_time": "2024-03-26T16:02:52.757209300Z",
     "start_time": "2024-03-26T16:02:52.757209300Z"
    },
    "collapsed": false
   },
   "outputs": [
    {
     "data": {
      "text/plain": [
       "{'elapsed_training_time': '0 minutes, 6 seconds',\n",
       " 'accuracy_per_label': {'BI_ENGINEER': 1.0,\n",
       "  'DATA_ENGINEER': 0.0,\n",
       "  'IRRELEVANT': 0.8888888888888888},\n",
       " 'accuracy_global': 0.7333333333333333}"
      ]
     },
     "execution_count": 4,
     "metadata": {},
     "output_type": "execute_result"
    }
   ],
   "source": [
    "metrics"
   ]
  }
 ],
 "metadata": {
  "kernelspec": {
   "display_name": "Python 3",
   "language": "python",
   "name": "python3"
  },
  "language_info": {
   "codemirror_mode": {
    "name": "ipython",
    "version": 3
   },
   "file_extension": ".py",
   "mimetype": "text/x-python",
   "name": "python",
   "nbconvert_exporter": "python",
   "pygments_lexer": "ipython3",
   "version": "3.11.1"
  }
 },
 "nbformat": 4,
 "nbformat_minor": 5
}
