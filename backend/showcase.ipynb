{
 "cells": [
  {
   "cell_type": "markdown",
   "source": [
    "# Load example data"
   ],
   "metadata": {
    "collapsed": false
   },
   "id": "8ccab075194136b0"
  },
  {
   "cell_type": "code",
   "execution_count": null,
   "outputs": [],
   "source": [
    "import json\n",
    "import warnings\n",
    "warnings.filterwarnings('ignore', category=DeprecationWarning)\n",
    "warnings.filterwarnings('ignore', category=FutureWarning)\n",
    "with open('data.json',encoding='utf-8',mode='r') as file:\n",
    "     mails = json.load(file)"
   ],
   "metadata": {
    "collapsed": false
   },
   "id": "3bcd1407399d00de"
  },
  {
   "cell_type": "markdown",
   "source": [
    "# Preprocessor showcase"
   ],
   "metadata": {
    "collapsed": false
   },
   "id": "cb9b6317af0dfe83"
  },
  {
   "cell_type": "code",
   "execution_count": null,
   "outputs": [],
   "source": [
    "from preprocessor import Preprocessor\n",
    "\n",
    "p = Preprocessor()\n",
    "p.preprocess(email=mails[42])"
   ],
   "metadata": {
    "collapsed": false
   },
   "id": "1e262806dcdfcad0"
  },
  {
   "cell_type": "markdown",
   "source": [
    "# Model operator showcase"
   ],
   "metadata": {
    "collapsed": false
   },
   "id": "3a4ec9cbad5f8e6b"
  },
  {
   "cell_type": "code",
   "execution_count": null,
   "outputs": [],
   "source": [
    "from modeloperator import ModelOperator\n",
    "from modelmanager import ModelManager\n",
    "\n",
    "mm = ModelManager(test_size=0.15, random_state=30, learning_rate=0.9, base_n_estimators= 35, n_estimators= 180)\n",
    "metrics = mm.train_model(data=mails)\n",
    "ml = ModelOperator()\n",
    "\n",
    "print(\"origineel label:\",mails[92]['label'])\n",
    "ml.classify(mails[92])"
   ],
   "metadata": {
    "collapsed": false
   },
   "id": "b101700d94387a93"
  },
  {
   "cell_type": "code",
   "execution_count": null,
   "outputs": [],
   "source": [
    "metrics"
   ],
   "metadata": {
    "collapsed": false
   },
   "id": "414fe34c41d8c80b"
  }
 ],
 "metadata": {
  "kernelspec": {
   "display_name": "Python 3",
   "language": "python",
   "name": "python3"
  },
  "language_info": {
   "codemirror_mode": {
    "name": "ipython",
    "version": 2
   },
   "file_extension": ".py",
   "mimetype": "text/x-python",
   "name": "python",
   "nbconvert_exporter": "python",
   "pygments_lexer": "ipython2",
   "version": "2.7.6"
  }
 },
 "nbformat": 4,
 "nbformat_minor": 5
}
